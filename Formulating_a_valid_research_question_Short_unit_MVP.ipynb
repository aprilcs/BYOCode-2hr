{
  "nbformat": 4,
  "nbformat_minor": 0,
  "metadata": {
    "colab": {
      "provenance": [],
      "collapsed_sections": [
        "AK_bcE2trpze"
      ],
      "toc_visible": true,
      "mount_file_id": "1m8DQWZ7cc5u9G7GGL7wEWGMhLvkBLI8I",
      "authorship_tag": "ABX9TyMCYGvb2KqHKjGfpL4XCt6G",
      "include_colab_link": true
    },
    "kernelspec": {
      "name": "python3",
      "display_name": "Python 3"
    },
    "language_info": {
      "name": "python"
    }
  },
  "cells": [
    {
      "cell_type": "markdown",
      "metadata": {
        "id": "view-in-github",
        "colab_type": "text"
      },
      "source": [
        "<a href=\"https://colab.research.google.com/github/aprilcs/BYOCode-2hr/blob/master/Formulating_a_valid_research_question_Short_unit_MVP.ipynb\" target=\"_parent\"><img src=\"https://colab.research.google.com/assets/colab-badge.svg\" alt=\"Open In Colab\"/></a>"
      ]
    },
    {
      "cell_type": "markdown",
      "source": [
        "# Formulating a valid research question (Short-Unit / Lab Version)\n",
        "\n",
        "**Pre-requisites**: Learners should have a general understanding of the scientific process prior to beginning this unit. No other previous units are required.\n",
        "\n",
        "**Learning Objectives**\n",
        "\n",
        "1. Describe important components of a research question\n",
        "2. Discuss useful frameworks to assist in creation of a research question\n",
        "3. Evaluate the quality of a research question\n",
        "\n",
        "**Mini-units:**\n",
        "\n",
        "- 1.1: Why research questions matter for rigorous research\n",
        "- 1.2: Frameworks for creating research questions\n",
        "- 1.7: Criteria for evaluating research questions"
      ],
      "metadata": {
        "id": "crP_Q4sRrSWR"
      }
    },
    {
      "cell_type": "markdown",
      "source": [
        "\n",
        "\n",
        "## Mini-unit 1.1: Why research questions matter for rigorous research\n",
        "\n",
        "Learning objective mapping: #1\n",
        "\n",
        "***Mini-unit description***: This mini-unit will introduce learners to the overall purpose of the broader unit, illustrating why carefully crafting a research question matters within science, and how upholding this principle benefits scientific rigor.\n",
        "\n",
        "***Written introduction***: Science is driven by questions. A good question is carefully constructed. Just like a house is composed of walls, floors, and ceilings, scientific inquiry is composed of different essential pieces as well. A research question underlying a study serves as the foundation to a house, ensuring that all the work that comes after is set up for success. Whether you are building a foundation or crafting a scientific question, it is important to ensure that work meets rigorous standards. This unit will introduce the “blueprints” and “standards” that are needed to build and evaluate a research question that is clearly specified and rigorously designed. To introduce you to this unit, we start with some stories illustrating different researcher experiences with constructing research questions. While conceptually it is not difficult for us to grasp the importance of a good scientific research question, it can still feel like a daunting process to execute. That being said, it doesn’t have to be. Researchers at all career levels continually work through this process, and this community of learning can help to lessen the anxieties that may arise. So, let’s start by hearing from a few researchers about their experiences."
      ],
      "metadata": {
        "id": "vkn9pvdCpgDx"
      }
    },
    {
      "cell_type": "markdown",
      "source": [
        "***Visual element notes**: A series of personal narratives showing learners why this topic is important and useful (the module “hook”). These are positively framed to help learners understand why a focus on research questions can be important long-term. A total of four ‘talking heads’ are displayed across a longitudinal career trajectory (undergraduate student; Masters/PhD student; early career researcher; experienced researcher). The timeline will allow learners to click on them to listen to a story related to experiences surrounding the composition of research questions (including both what is exciting and what is difficult).*\n",
        "\n",
        "***Visual element wireframe***: Researcher experiences with research questions\n",
        "\n",
        "\n",
        "\n",
        "![UNIT%201%20-%20Formulating%20a%20valid%20research%20question%20d3b3bb5a217244f6bd2adeac111e7939/image1.png](UNIT%201%20-%20Formulating%20a%20valid%20research%20question%20d3b3bb5a217244f6bd2adeac111e7939/image1.png)\n",
        "\n",
        "- Undergraduate student (Carla):\n",
        "    - *Exciting*: I chose to work in a faculty member’s lab because I got really interested when they discussed their research in class. Their research seemed to dive into some intriguing questions that I had never considered before. The more time I spent in their lab, I realized there were so many opportunities to explore different areas of my (and my faculty member’s) interest. I learned that research questions weren’t set in stone, but instead give researchers an opportunity to let their curiosity lead the way. This freedom excited me and made me want to keep coming back for more, and maybe even consider research as a career.\n",
        "    - *Difficult*: Admittedly, with the freedom to explore my interests in research also came this recognition that science is literally endless in scope. And I’d be lying if that wasn’t a little scary! Where do I start? How do I know I’ve picked a good question? What if I’m trying to do something that’s already been done? So, I’d say that there’s also a level of uncertainty in this process that can be nerve-wracking at times, especially when you’re just starting out and feel like you don’t know much yet.\n",
        "- Masters/PhD student (Lane):\n",
        "    - *Exciting:* I’ve chosen to pursue a career in research, primarily because I feel like each day is a new problem to solve. A lot of jobs I’ve had have felt repetitive in their tasks, but research gives me a longitudinal path to follow. I identify a gap in knowledge, formulate a good research question, and then design the work needed to generate the requisite data. From there, a new gap emerges, and the process begins anew. The idea of a career where I get to ask and answer interesting questions feels very fulfilling to me.\n",
        "    - *Difficult:* I’ve come to appreciate how specific a good research question needs to be, and how much effort has to go into identifying the narrow literature gaps that support it. I’ve had countless meetings with my faculty advisor where ideas I have for research questions end up torn to pieces! And it’s normal to take that a little personally when you start. But I’ve learned this is part of the constructive process that is necessary to support good research. So, I’ve learned to appreciate that feedback and evaluation as the end result is stronger.\n",
        "- Early career researcher (Mary):\n",
        "    - *Exciting:* My training throughout my PhD and postdoctoral fellowship has provided me a lot of practice in thinking about and composing good research questions. I’ve encountered a lot of bumps along the way, but I feel like with each step forward in my career, I gain confidence and learn more and more about ways to set my research up for success. As they say, practice makes perfect!\n",
        "    - *Difficult:* As my confidence in my own work has grown, I didn’t realize the anxiety I’d feel in this transition to independence and now training students of my own. Previously, all I had to worry about was myself, and any missteps I took were my own. Now, I have Masters and PhD students who I want to protect and ensure their work is not in vain. It definitely results in a bit of anxiety because I’m now responsible for their research as well.\n",
        "- Experienced researcher (Vijay):\n",
        "    - *Exciting:* One of the benefits of having been in research for a long time is that at a certain point, you feel like “you’ve seen it all.” You’ve navigated so many problems and solutions across your career that people seek out your help. I love it when trainees and colleagues come to my office feeling stumped or frustrated with a research question they are putting together, and I’m able to empower them to push forward. We’ve all been there, and now being on the other side of things, I feel lucky that I’m able to pay it forward for the next generation of researchers training today.\n",
        "    - *Difficult:* I will say that even despite this confidence, I’ve come to recognize that we can get comfortable in a very specific area. I had the opportunity a while ago to work with a collaborator on something completely out of my area of expertise. I was excited by the opportunity to shift my focus for a bit, but man, I was a bit blind-sided by how much taking on this project would require me to re-build knowledge in a related, but new area. But the old adage is true – we are always learning, aren’t we?"
      ],
      "metadata": {
        "id": "S12ogLPnpvb4"
      }
    },
    {
      "cell_type": "markdown",
      "source": [
        "***Written description***: This unit on ‘Formulating a Research Question’ consists of eight mini-units, which are shown in the unit roadmap below. Each mini-unit will provide content as well as learning activities which will help to reinforce important concepts. We encourage learners to work through this unit with a research idea that is relevant to you and your current work, so that it can be incrementally developed and critically evaluated across the mini-units. A “roadmap” of the mini-units can be seen on the slide, feel free to click on the mini-units for a more in-depth description.\n",
        "\n",
        "***Visual element notes**: Roadmap of the mini-units, with detours to other units indicated as appropriate. A progress bar in the form of a roadmap will also be incorporated, to allow learners to see what they have completed within this specific unit, as well as other METER units overall. For the roadmap for this unit specifically, the basic layout is shown below, with the intention that clicking on each unit would expand a visual element showing the mini-unit description.*\n",
        "\n",
        "***Visual element**: Roadmap of mini-units on ‘Formulating a Research Question’*"
      ],
      "metadata": {
        "id": "_Zc97SASqXID"
      }
    },
    {
      "cell_type": "markdown",
      "source": [
        "***Mini-unit 1.1 video content:***\n",
        "\n",
        "- ***Slide title:*** Why rigorous research questions matter\n",
        "    - ***Narration:*** Let’s take the first step in our journey and discuss why designing research questions with rigor matters. To do that, we first need to revisit the scientific method.\n",
        "    - ***Wireframe***: Getting started with research questions\n",
        "        \n",
        "        ![UNIT%201%20-%20Formulating%20a%20valid%20research%20question%20d3b3bb5a217244f6bd2adeac111e7939/image9.jpeg](UNIT%201%20-%20Formulating%20a%20valid%20research%20question%20d3b3bb5a217244f6bd2adeac111e7939/image9.jpeg)\n",
        "        \n",
        "- ***Slide title***: The scientific method\n",
        "    - ***Narration***: Many of us were introduced to the basics of the scientific method as children. Perhaps our first experience was the classical and entertaining experiment to see whether plants grow faster to classical or rock music. Each day, we examined seedlings in our pot, looking for the beginnings of growth, endlessly arguing with friends over which type of music would be better to coax Mother Nature’s process. The hypotheses were endless – the soft and gentle harmony of classical music creating the calm environment needed for growth vs the loud and proud rhythm of rock music adding energy to the process.\n",
        "    - ***Wireframe***: Plant growth (animation illustrating the described experiment)\n",
        "        \n",
        "        ![UNIT%201%20-%20Formulating%20a%20valid%20research%20question%20d3b3bb5a217244f6bd2adeac111e7939/image10.jpeg](UNIT%201%20-%20Formulating%20a%20valid%20research%20question%20d3b3bb5a217244f6bd2adeac111e7939/image10.jpeg)\n",
        "        \n",
        "    - ***Narration***: In those humble beginnings, we learned the basic process of the scientific method: asking a question, formulating a hypothesis, conducting an experiment, analyzing data, and drawing conclusions. Even though we have moved far past the simple experiments of our childhood, this framework remains ‘bread and butter’ to the scientific community. And of course, the first step in that process is all about the research question. Without a strong and valuable research question, the potential for problems to arise increases across the following steps.\n",
        "    - ***Wireframe***: Steps in the scientific method\n",
        "- ***Slide title***: Where do good questions come from?\n",
        "    - ***Narration***: Good questions come from astute observations. These observations form the raw material from which a question is crafted. Observation can take many forms. In its simplest form, it can be about paying attention to the environment around us, not unlike the legend of Isaac Newton and his conceptualization of gravity after the fall of an apple from an apple tree. Observations also arise through experimentation, as researchers embark on scientific pursuits, gaining new knowledge, and using that knowledge to in turn, generate new hypotheses. But it’s not only our own experiments that we should draw inspiration from. Observation in the modern era also requires developing an awareness of the extensive body of literature already generated on a topic, given the historical explosion of science and knowledge. From our observations and an understanding of existing knowledge, we can identify the broad outline of what will eventually become our research question and/or hypothesis.\n",
        "    - ***Wireframe***: Newton to modern day observation\n",
        "        \n",
        "        ![UNIT%201%20-%20Formulating%20a%20valid%20research%20question%20d3b3bb5a217244f6bd2adeac111e7939/image16.jpeg](UNIT%201%20-%20Formulating%20a%20valid%20research%20question%20d3b3bb5a217244f6bd2adeac111e7939/image16.jpeg)\n",
        "        \n",
        "- ***Slide title***: Where do good questions take us?\n",
        "    - ***Narration***: So, what are the benefits of a good research question? First, good questions enable us to keep our work moving forward in an organized manner. They guide us in developing clear and replicable methods by breaking down often big ideas into manageable and achievable tasks. Second, most scientists have a healthy sense of curiosity and excitement in the opportunity to explore new areas. As such, good research questions can aid us in staying focused on the process amidst this complex and stimulating environment, particularly given that most scientific discovery is more incremental than explosive. Lastly, time invested in a good research question provides an opportunity to think about the downstream purpose of our work – why is it important to gain this knowledge? Who will it help and impact? What change will this create in the world?\n",
        "    - ***Wireframe***: The benefits of a good research question\n",
        "        \n",
        "        ![UNIT%201%20-%20Formulating%20a%20valid%20research%20question%20d3b3bb5a217244f6bd2adeac111e7939/image22.jpeg](UNIT%201%20-%20Formulating%20a%20valid%20research%20question%20d3b3bb5a217244f6bd2adeac111e7939/image22.jpeg)\n",
        "        \n",
        "- ***Slide title***: Trial and error in creating questions\n",
        "    - ***Narration***: One of the most important things to know about writing research questions is that the process is meant to be iterative. It is unlikely that on your first attempt, you’ll craft the optimal question, no matter what stage of career you are in. Each new scientific pursuit presents a unique challenge, so learning the process is what remains important. Research questions are meant to be drafted, edited, workshopped, and optimized. They also benefit from collaborative discussion alongside peers, leveraging the diverse perspectives of your research team and incorporation of their recommendations. So don’t let yourself get discouraged along the way, because the effort and time you invest in trial and error will pay off in the end. And never feel alone in the process***. Remember that science is a team sport.***\n",
        "- ***Slide title***: Conclusion\n",
        "    - ***Narration***: At this point, we hope you’re convinced of the importance of rigorous research questions. The remainder of the mini-units will walk you through items to consider as you develop a process to create and optimize your own questions.\n",
        "\n",
        "***Written instructions**: With the content of this mini-unit now complete, let’s finish by gathering your initial thoughts on a couple of research questions posed by others, and drafting one of your own.*"
      ],
      "metadata": {
        "id": "lb-1g8_RqtYl"
      }
    },
    {
      "cell_type": "code",
      "source": [
        "# Activity 1.1 goes here"
      ],
      "metadata": {
        "id": "IrFPDyOeq_cJ"
      },
      "execution_count": null,
      "outputs": []
    },
    {
      "cell_type": "markdown",
      "source": [
        "## Mini-unit 1.2: Frameworks for creating research questions\n",
        "\n",
        "Learning objective mapping: #1 and #2\n",
        "\n",
        "***Mini-unit description***: This mini-unit will introduce learners to different frameworks for composing research questions, which depend on the type of question being posed. The previous units have discussed the general conceptual schema of “who, what, why, and how” that should be embedded in every research question, but more formalized frameworks also exist, depending on the specifics of your research.\n",
        "\n",
        "***Written introduction***: Crafting a research question can be intimidating regardless of whether you are a student or an experienced researcher. Beyond the general schema we’ve already discussed, there are many different formalized frameworks available to help you identify the elements needed to craft a rigorous research question. Which framework you choose may be dependent on your field, your specific research question, or simply your personal preference. This mini-unit will provide an overview of commonly used frameworks in the biomedical and social/administrative sciences.\n",
        "\n",
        "The table below provides an overview. There are many others out there that you might also find useful. You’ll note that among the frameworks presented, there is a fair degree of overlap across domains. Every research project is unique and different elements may or may not be relevant to a given initiative. That being said, frameworks can serve to assist researchers by helping them think through whether a given domain is relevant to their work, and whether it needs to be clearly defined as a part of the planning process. One item that can help a researcher decide what framework might be best for them is the type of research question, which is discussed in the following content video.\n",
        "\n",
        "***Visual element notes:** Table introducing each of the frameworks for creating research questions, along with their basic definitions, description, and potential areas of use in science.*\n",
        "\n",
        "***Visual element***: Comparisons of different types of research frameworks\n",
        "\n",
        "| Framework | Components | Brief description | Primary usage | Resources |\n",
        "| --- | --- | --- | --- | --- |\n",
        "| PICO/TS | Patient/population/problem | The subjects of interest | Quantitative research | https://www.nccmt.ca/knowledge-repositories/search/138\n",
        "Health Evidence™. Developing an efficient search strategy using PICO. 2009. Retrieved from: http://www.healthevidence.org/practice-tools.aspx |\n",
        "|  | Intervention | The process being tested |  |  |\n",
        "|  | Comparison | What the process is being tested against (if applicable) |  |  |\n",
        "|  | Outcome | The result of interest |  |  |\n",
        "|  | Timing/type of question | The timeframe of measurement or the category of question asked |  |  |\n",
        "|  | Setting/study design | The environment or method used to conduct the measurement |  |  |\n",
        "| SPIDER | Sample | The subjects of interest | Qualitative and mixed-methods research | https://www.nccmt.ca/knowledge-repositories/search/191\n",
        "Cooke A, Smith D, Booth A. Beyond PICO: The SPIDER tool for qualitative evidence synthesis. Qual Health Res. 2012;22(10):1435-43. |\n",
        "|  | Phenomenon of interest | The how and why being studied |  |  |\n",
        "|  | Design | How the method is created/implemented |  |  |\n",
        "|  | Evaluation | The measurement of the outcome |  |  |\n",
        "|  | Research type | The specific approach |  |  |\n",
        "| SPICE | Setting | The context of the question | Project/service evaluation | https://www.nccmt.ca/knowledge-repositories/search/326\n",
        "Booth A. Clear and present questions: formulating questions for evidence based practice. Library Hi Tech. 2006;24(3):355-68. |\n",
        "|  | Perspective | Stakeholders (potential or actual) |  |  |\n",
        "|  | Intervention/interest/exposure | The action taken |  |  |\n",
        "|  | Comparison | The alternative action |  |  |\n",
        "|  | Evaluation | Measurement of the success |  |  |\n",
        "| ECLIPSE | Expectation | Outcome targeted for improvement | Policy/service evaluation | Wildridge V, Bell L. How CLIP became ECLIPSE: A mnemonic to assist in searching for health policy/management information. Health Info Libraries J. 2002;19(2):113-5. |\n",
        "|  | Client group | Who the policy/service targets |  |  |\n",
        "|  | Location | Where the policy/service is located |  |  |\n",
        "|  | Impact | What change is being investigated |  |  |\n",
        "|  | Professionals | Who is involved in delivering |  |  |\n",
        "|  | Service | Kind of service/policy |  |  |\n",
        "\n",
        "For further frameworks, see the supplemental file associated with: *Booth A, Noyes J, Flemming K, Moore G, Tunçalp Ö, Shakibazadeh E. [Formulating questions to explore complex interventions within qualitative evidence synthesis](https://gh.bmj.com/content/4/Suppl_1/e001107). BMJ Global Health. 2019;4(1):e001107. http://dx.doi.org/10.1136/bmjgh-2018-001107*"
      ],
      "metadata": {
        "id": "AK_bcE2trpze"
      }
    },
    {
      "cell_type": "markdown",
      "source": [
        "***Mini-unit 1.2 video content:***\n",
        "\n",
        "- ***Slide title***: Frameworks for creating research questions\n",
        "    - ***Narration***: As you’ve just seen, different frameworks exist to assist researchers in the creation of research questions, depending on the specific needs of the project or the area of science involved. There are many different frameworks because there are many different scientific areas and associated types of research questions.\n",
        "- ***Slide title***: Different scientific areas\n",
        "    - ***Narration***: Biomedical science is highly diverse, encompassing researchers across a full translational spectrum. Researchers in basic/pre-clinical research study biological and disease processes with the goal of enhancing understanding of function and disease through laboratory work. Clinical research and implementation science researchers work directly with people, translating this foundational work into therapies and interventions which improve outcomes. Finally, public health research seeks to integrate and optimize clinical discoveries into real-world practice at the population level. What is common across this spectrum is that each researcher frames a problem based on what is known and seeks to discover what is not known. However, the entities/elements involved, interventions/strategies being tested, and process being used for investigation may influence the framework that is best suited for the work.\n",
        "- ***Wireframe***: Schematic of the research spectrum\n",
        "    \n",
        "    *Adapted from NIH National Center for Advancing Translational Sciences. Translation science spectrum. Updated November 10, 2021. Available at: [https://ncats.nih.gov/translation/spectrum](https://ncats.nih.gov/translation/spectrum). and Clinical and Translational Science Institute of Southeast Wisconsin. Clinical and translational research spectrum. Available at: [https://ctsi.mcw.edu/images/spectrum-catalyst.png](https://ctsi.mcw.edu/images/spectrum-catalyst.png).*\n",
        "    \n",
        "    ***Slide title***: Different types of research questions\n",
        "    \n",
        "- ***Narration***: Research questions among these areas of science are also diverse in their goals. In quantitative work, a particular question may seek to provide a basic description of a phenomenon and its associated variables. Or rather, the goal of the research may be more about understanding the relationship between a given set of variables, either the associations or correlations among them, or the causative relationships. With qualitative work, a question may be aimed toward exploring a topic area without preconceived notion, understanding the intent or future outcome of a situation, or investigating the reasoning behind a phenomenon. Depending on the nature of your work, different frameworks may be more suited to help guide your development.\n",
        "- ***Wireframe***: Schematic of different types of research questions\n",
        "- ***Slide title***: Choosing a framework for your research question\n",
        "    - ***Narration***: The frameworks introduced in the mini-unit table (and others available) are ultimately flexible and can generally be applied across various areas of science. The PICO/TS framework has increased relevance for quantitative research, while SPIDER is more suited for work that involves qualitative inquiry. SPICE and ECLIPSE focus more on implementation research for policies, projects, or services in implementation science. However, researchers can borrow or remove domains in any of the frameworks based on their relevance. Ultimately, what is important is that a researcher invests the time and thought into how the difference aspects of their project are defined, what framework domains are relevant to include, and how the chosen domains coalesce to form a complete research question.\n",
        "        \n",
        "        ![UNIT%201%20-%20Formulating%20a%20valid%20research%20question%20d3b3bb5a217244f6bd2adeac111e7939/image71.jpg](UNIT%201%20-%20Formulating%20a%20valid%20research%20question%20d3b3bb5a217244f6bd2adeac111e7939/image71.jpg)\n",
        "        \n",
        "- ***Slide title***: Conclusion\n",
        "    - ***Narration***: To further understand the application of these frameworks, let’s now turn to some examples to explore mapping to different domains."
      ],
      "metadata": {
        "id": "nIZVEXyfsPny"
      }
    },
    {
      "cell_type": "markdown",
      "source": [
        "***Visual element notes**: Dynamic graphic showing the different frameworks where learners start by clicking into a broad area of science (Level 1), followed by a scientific example (Level 2). Learners are asked to map the scientific example against the PICO/TS framework.*\n",
        "\n",
        "***Visual element wireframe***: Frameworks and examples for composing research questions\n",
        "\n",
        "***Visual element details**:*\n",
        "\n",
        "- *Basic science*\n",
        "    - *Example 1: [https://www.ncbi.nlm.nih.gov/pmc/articles/PMC7959502/](https://www.ncbi.nlm.nih.gov/pmc/articles/PMC7959502/)*\n",
        "        - Research question: Identify strain-specific microbiota profiles and complex relationships between host genetics, microbial constituents, and microbial-driven metabolic functions in a panel of 27 B6.ChrPWD consomic mice associated with differential susceptibility to experimental autoimmune encephalomyelitis.\n",
        "            - P: B6.ChrPWD consomic mice\n",
        "            - I: Strain-specific microbiota profiles and complex relationships between host genetics, microbial constituents, and microbial-driven metabolic functions\n",
        "            - C: N/A\n",
        "            - O: Susceptibility to experimental autoimmune encephalomyelitis\n",
        "    - *Example 2: [https://pubmed.ncbi.nlm.nih.gov/30157420/](https://pubmed.ncbi.nlm.nih.gov/30157420/)*\n",
        "        - Research question: Identify whether synaptic inhibition of *TrkA+* cholinergic neurons and knockout of two Gq-type acetylcholine receptors *Chrm1* and *Chrm3* causes a severe short-sleep phenotype.\n",
        "            - P: Cholinergic neurons\n",
        "            - I: Synaptic inhibition of *TrkA+* cholinergic neurons and knockout of two Gq-type acetylcholine receptors *Chrm1* and *Chrm3*\n",
        "            - C: N/A\n",
        "            - O: short-sleep phenotype\n",
        "- *Clinical science*\n",
        "    - *Example 1: [https://pubmed.ncbi.nlm.nih.gov/33653121/](https://pubmed.ncbi.nlm.nih.gov/33653121/)*\n",
        "        - Research question: Evaluate the safety and efficacy of intravenous ketamine in adolescents compared to active treatment with midazolam for treatment-resistant major depressive disorder.\n",
        "            - P: Adolescents with treatment-resistant major depressive disorder\n",
        "            - I: Intravenous ketamine\n",
        "            - C: Midazolam\n",
        "            - O: Safety and efficacy\n",
        "    - *Example 2: [https://www.ncbi.nlm.nih.gov/pmc/articles/PMC7034876/](https://www.ncbi.nlm.nih.gov/pmc/articles/PMC7034876/)*\n",
        "        - Research question: Investigate the negative effects of psilocybin consumption, according to the users' own perception through self-reports extracted from an online platform\n",
        "            - P: Psilocybin users\n",
        "            - I: Psilocybin consumption\n",
        "            - C: N/A\n",
        "            - O: Perception of negative effects\n",
        "- *Public health*\n",
        "    - *Example 1: [https://pubmed.ncbi.nlm.nih.gov/22349682/](https://pubmed.ncbi.nlm.nih.gov/22349682/)*\n",
        "        - Research question: Identify whether consumption of antioxidant-rich foods from the Mediterranean diet is associated with better cognitive performance in a cohort of elderly persons at high risk for coronary heart disease.\n",
        "            - P: Elderly persons at risk of coronary heart disease\n",
        "            - I: Consumption of antioxidant-rich foods from the Mediterranean Diet\n",
        "            - C: N/A\n",
        "            - O: Cognitive performance\n",
        "    - *Example 2:* *[https://www.ncbi.nlm.nih.gov/pmc/articles/PMC9881419/](https://www.ncbi.nlm.nih.gov/pmc/articles/PMC9881419/)*\n",
        "        - Research question: Ascertain how physical activity impacts health-related quality of life among older adults with and without multiple sclerosis.\n",
        "            - P: Older adults with/out multiple sclerosis\n",
        "            - I: Physical activity\n",
        "            - C: N/A\n",
        "            - O: Health-related quality of life\n",
        "\n",
        "***Written conclusion***: This mini-unit has provided a birds-eye view of some different formalized frameworks on which a researcher can design a research question."
      ],
      "metadata": {
        "id": "TRJuIxGqsVwl"
      }
    },
    {
      "cell_type": "code",
      "source": [
        "# Activity 1.2 goes here"
      ],
      "metadata": {
        "id": "fNR0bdScsZFW"
      },
      "execution_count": null,
      "outputs": []
    },
    {
      "cell_type": "markdown",
      "source": [
        "## Mini-unit 1.3: Criteria for evaluating research questions\n",
        "\n",
        "Learning objective mapping: #1, #2 and #3\n",
        "\n",
        "***Mini-unit description***: This mini-unit will introduce learners to the FINER (Feasible, Interesting, Novel, Ethical and Relevant) criteria for evaluating research questions and review important considerations within each domain.\n",
        "\n",
        "***Written instructions***: Over four units, we have described schema to follow as you consider different components of your research question (“who, what, why, and how”). In addition to these specific building blocks, there are also more holistic concepts that should be discussed and evaluated. These criteria are represented by the acronym FINER, including Feasible, Interesting, Novel, Ethical, and Relevant. Use the dynamic graphic below to learn more about the different domains within the FINER criteria.\n",
        "\n",
        "***Visual element**: Dynamic graphic showing the FINER criteria, where learners can click into a letter and see a short description and relevant questions that might be useful for reflection.*\n",
        "\n",
        "***Visual element wireframe***: FINER definitions and examples\n",
        "\n",
        "***Visual element details**:*\n",
        "\n",
        "- F  Feasible\n",
        "    - Definition: Can the research question be answered given the available resources?\n",
        "        - A researcher needs to consider resources that they require and if they are available, including consideration of items such as time, resources, expertise, funding, or data availability.\n",
        "            - **Do you have access to the resources needed to conduct the research?** This could include funding for personnel, specialized machines, data, reagents, media, compounds, animals, cells, or other equipment needed to conduct your research.\n",
        "            - **Do you have the technical skills to carry out the research?** Research often requires a multidisciplinary team with a variety of skill sets, and understanding your needs ahead of time is essential for success.\n",
        "            - **Is the planned timeframe appropriate for the work?** Grants are often funded for a limited defined period, so one needs to evaluate if the work being proposed can reasonably be accomplished during the available time specified.\n",
        "- I  Interesting\n",
        "    - Definition: Is the research question exciting to you and the broader scientific community?\n",
        "        - Although interest can be partially subjective, a researcher can objectively evaluate if a particular project is valued by peers through discussions in scientific publications and among funding agencies in their calls for proposals.\n",
        "            - **Does your project align with the mission of the funding agency?** A particular project may be interesting but may not align with the funding priorities of an organization you are working with.\n",
        "            - **Are you personally interested/engaged in your project?** Research projects take a significant amount of time, from years to even decades. If you are not invested in your project, your ability to bring it successfully to completion is diminished.\n",
        "            - **Is the project of interest to the broader scientific field?** In any research area, there are “cause de jour,” where the popularity of a given area could lead to increased funding opportunities and ability to publish, while also creating increased competition.\n",
        "- N  Novel\n",
        "    - Definition: Does the research question seek to fill an existing gap in knowledge?\n",
        "        - A researcher needs to conduct a thorough literature review to understand existing research, identifying what is known and not yet known in an area of science.\n",
        "            - **What is known and what is unknown?** While science continually advances, there are still countless areas of exploration available. Indeed, research often leads to more questions than answers. When crafting a research question and developing a proposal, one must articulate the gap in knowledge your research aims to fill.\n",
        "            - **What are limitations in existing research in the field?** Are there methodologic limitations which impact the reliability and validity of the existing evidence? If so, you should articulate how your study seeks to address and improve upon those limitations.\n",
        "            - **Has it been done before?** Not all research is completely new, as there is considerable value in ensuring existing research is reproducible matter, especially given research suggesting that there are numerous findings that have been unable to be replicated. As such, you should be clear in your intent, whether it be new exploration or purposeful replication.\n",
        "- E  Ethical\n",
        "    - Definition: Does the research question protect and respect the participants or subjects of interest?\n",
        "        - A researcher needs to evaluate if their research requires review by an institutional review board, or against other standards (for institutional animal care or radioactive substance handling, for example).\n",
        "            - **Does your research minimize potential harm?** Many areas of research are not without risk of harm, whether to the researchers or the study subjects. It is essential to ensure that your project has protocols to ensure the safety of those conducting the research and those being researched (including human and non-human subjects).\n",
        "            - **Are you working with a vulnerable population or researching an area with special ethical concerns?** There are specially designated groups which may be at increased risk of harm from research. As such, special precautions need to be taken to protect their privacy and safety. There are also certain areas of research which require specific care when pursuing research, such as embryonic stem cells, human cloning, and artificial intelligence.\n",
        "            - **Have you engaged in the appropriate processes for ethical oversight?** Federal and institutional policy may require formal oversight of your research, including submission to an institutional review board (IRB). It is useful to engage with these groups early, as you conceptualize your project.\n",
        "- R  Relevant:\n",
        "    - Definition: Will the research question lead to societal improvements?\n",
        "        - It is essential for a researcher to consider the larger purpose of the work that the research question advances, and how it is meant to improve our communities and world. Although sometimes we pursue research purely for academic interest, a duty to larger society is ever-present.\n",
        "            - **What is the potential impact of your research?** What would a news headline about your research say? Not all research has direct impacts upon human health, and instead may be composed of scientific discoveries that generate incremental improvements in understanding of phenomena. Still, all research should aim to have a significant impact on human understanding and knowledge.\n",
        "            - **To whom is the research relevant and what are their needs?** Not all research matters to everyone, as stakeholders have a variety of needs when it comes to the generation of research evidence. Consideration of the needs of the end-users of your research can influence the research design and enable them to integrate the work into future decision-making.\n",
        "            - **Are you producing value for money?** Particularly for publicly-funded research, it is important that investments in science advance the field. It is particularly important for researchers to think beyond the silo of a specific project, especially if they hope to garner continued funding for their work moving forward."
      ],
      "metadata": {
        "id": "I6JvMdXEspiz"
      }
    },
    {
      "cell_type": "markdown",
      "source": [
        "***Written narrative: Now that you have learned about FINER criteria, let’s explore how FINER can be applied when developing research questions.***\n",
        "\n",
        "***Visual element notes**: Personal narratives about trainee stories showing learners how different elements of FINER can apply within research careers. A total of five ‘talking heads’ are displayed. Learners can click on them to listen to a story related to experiences surrounding the composition of research questions and potential outcomes. The stories are composed upon the framework of FINER.*\n",
        "\n",
        "***Visual element wireframe**:* Researcher experiences with FINER criteria\n",
        "\n",
        "![UNIT%201%20-%20Formulating%20a%20valid%20research%20question%20d3b3bb5a217244f6bd2adeac111e7939/image72.png](UNIT%201%20-%20Formulating%20a%20valid%20research%20question%20d3b3bb5a217244f6bd2adeac111e7939/image72.png)\n",
        "\n",
        "***Wireframe details***: Researcher experiences with FINER criteria\n",
        "\n",
        "- *Story 1 (a story about feasibility; James): A leader of a collaborative group of researchers narrows in on a study of interest that they wish to execute. The group has multiple conversations about available resources needed to successfully execute the project (funding, supplies, equipment, personnel, etc.). Increasingly, they realize that they lack expertise on the team necessary for one aspect of the project. They decide to adjust their initial research question focus, which allows the project to successfully proceed. They plan the next phase of the study securing the needed expertise to move forward on the next phase.*\n",
        "- *Story 2 (a story about interest; Ida): A mid-career researcher feels somewhat lost in the direction of their research. They find themselves at the natural end of one area of inquiry, but also nervous to change the focus of their work. Despite this anxiety, they identify an idea in a new area where they feel excited. They decide to take the plunge, learning new techniques, investing deeply to read new literature, and networking with existing researchers in the area. This preparation leads them to reconsider some of their initial assumptions in this area of inquiry, but ultimately allowing them to narrow in on a new and refined research question. Although the process of re-framing their research program is difficult, they are professionally reinvigorated by the change and see the effort they are putting in on building a solid foundation is paying off.*\n",
        "- *Story 3 (a story about novelty; Amari): A trainee digs deep into the literature, and as they learn more about their topic of interest, they identify one area where there doesn’t seem to be a lot of existing research. They talk to their supervising professor about this, who tells them they have never considered that specific problem, yet it would very useful if they could find the solution. With mutual excitement, they design their research question around this gap in the literature, and eventual publication of the results is highly regarded by many across their scientific discipline.*\n",
        "- *Story 4 (a story about ethics; Emma): A student proposes a study to their supervisor that seeks to understand the experiences of a historically marginalized group. In conceptualizing the project, they want to make sure that no harm comes to subjects because of the work being conducted. Their professor recommends speaking with the local institutional review board (IRB) prior to formal submission to optimize their approach. The IRB makes recommendations on how to best protect the study subjects, including a reframing of the research question. With this guidance, the study progresses forward successfully, eventually securing funding for significant expansion of the work.*\n",
        "- *Story 5 (a story about relevance; Juanita): A prospective graduate student is considering two different approaches to their research. Both seek to evaluate the impact of similar clinical interventions, but one approach has significantly more ‘buy-in’ by the patient population of interest, meaning that its implementation, if effective, would garner more acceptance. The student decides to involve relevant stakeholders in their research planning, leading to fruitful discussion and a research question of high interest to the community of interest. The work gains considerable praise from the patient population, and significant media coverage as a result.*"
      ],
      "metadata": {
        "id": "wNRmuYf4s_x8"
      }
    },
    {
      "cell_type": "code",
      "source": [
        "# Activity 1.3 here"
      ],
      "metadata": {
        "id": "M4_2zI1utOzm"
      },
      "execution_count": null,
      "outputs": []
    },
    {
      "cell_type": "markdown",
      "source": [
        "### Resources for further learning\n",
        "\n",
        "***Articles on research question development to supplement content***\n",
        "\n",
        "- **A thorough approach to preparing a research question**\n",
        "    - [https://www.ncbi.nlm.nih.gov/pmc/articles/PMC6322175/](https://www.ncbi.nlm.nih.gov/pmc/articles/PMC6322175/)\n",
        "    - The formulation of a research question is essential before any investigation into a subject.\n",
        "- **Evaluation of your research topic and how to answer critical questions**\n",
        "    - [https://libguides.utoledo.edu/c.php?g=284276&p=1893702](https://libguides.utoledo.edu/c.php?g=284276&p=1893702)\n",
        "    - Evaluation of a research topic through answering open ended questions and evidence.\n",
        "- **Overview of the research process**\n",
        "    - [https://researchwriting.unl.edu/overview-research-process](https://researchwriting.unl.edu/overview-research-process)\n",
        "    - An overview of the research process that includes step by step components to reach the goal of a completed research approach.\n",
        "- **Evidence-based intervention (EBI) mapping**\n",
        "    - [https://bmcpublichealth.biomedcentral.com/articles/10.1186/s12889-022-13692-x](https://bmcpublichealth.biomedcentral.com/articles/10.1186/s12889-022-13692-x)\n",
        "    - A systematic approach to understanding the components and logic of EBIs\n",
        "- **How to refine your selected research topic**\n",
        "    - [https://libguides.mit.edu/c.php?g=175961&p=1160160](https://libguides.mit.edu/c.php?g=175961&p=1160160)\n",
        "    - When refining research questions, it is important to ensure that topics are not too narrow and include thorough analysis of resources.\n",
        "- **Asking the right question: specifying your study question**\n",
        "    - [https://www.ncbi.nlm.nih.gov/pmc/articles/PMC3836894/](https://www.ncbi.nlm.nih.gov/pmc/articles/PMC3836894/)\n",
        "    - Well defined research questions guide the study design and how the data from the population will be collected.\n",
        "- **Avoiding pitfalls when specifying the “why”**\n",
        "    - [https://trialsjournal.biomedcentral.com/articles/10.1186/s13063-017-1870-2](https://trialsjournal.biomedcentral.com/articles/10.1186/s13063-017-1870-2)\n",
        "    - Why clinical trial outcomes fail to translate into benefits for patients\n",
        "- **Standardized outcome sets**\n",
        "    - [https://www.comet-initiative.org/About](https://www.comet-initiative.org/About)\n",
        "    - Relevant resources that can be applied to methodological research and core outcome sets.\n",
        "    - [https://www.ncbi.nlm.nih.gov/books/NBK493662/](https://www.ncbi.nlm.nih.gov/books/NBK493662/)\n",
        "    - Evaluating project outcomes for specific disease prevalence in a population.\n",
        "- **Qualitative data collection and analysis to conduct rigorous research**\n",
        "    - [https://www.ncbi.nlm.nih.gov/pmc/articles/PMC7055404/](https://www.ncbi.nlm.nih.gov/pmc/articles/PMC7055404/)\n",
        "    - Rigor and quality of a research can be indicators for best practices to conduct, carry out, and designing a proper research study.\n",
        "- **Various frameworks and models to help formulate a valid research question**\n",
        "    - [https://libguides.jcu.edu.au/systematic-review/define](https://libguides.jcu.edu.au/systematic-review/define)\n",
        "    - Various models and frameworks such as PICO, SPICE, and SPIDER can be used to formulate a valid research question.\n",
        "- **Defining your research question through PICO and PS**\n",
        "    - [https://www.nccmt.ca/knowledge-repositories/search/138](https://www.nccmt.ca/knowledge-repositories/search/138)\n",
        "    - Using PICO and PS as a fundamental step in creating a proper research question.\n",
        "- **How CLIP became ECLIPSE: assisting with health policy management information**\n",
        "    - [https://pubmed.ncbi.nlm.nih.gov/12389609/](https://pubmed.ncbi.nlm.nih.gov/12389609/)\n",
        "    - The framework CLIP was used in health policy management, and adjustments to the model allowed improvement of areas in “impact” and “expectation” for health management.\n",
        "- **An introduction of the PICOT: a framework for clinical research**\n",
        "    - [https://www.ncbi.nlm.nih.gov/pmc/articles/PMC3430448/](https://www.ncbi.nlm.nih.gov/pmc/articles/PMC3430448/)\n",
        "    - Clinicians have used PICOT to improve intervention for treatments and patient care outcomes.\n",
        "- **The SPIDER framework for evidence synthesis**\n",
        "    - [https://www.nccmt.ca/knowledge-repositories/search/191](https://www.nccmt.ca/knowledge-repositories/search/191)\n",
        "    - A systematic strategy for searching for mixed method research studies.\n",
        "- **Formulating a research question through pitfalls and successes**\n",
        "    - [https://www.ncbi.nlm.nih.gov/pmc/articles/PMC2912019/](https://www.ncbi.nlm.nih.gov/pmc/articles/PMC2912019/)\n",
        "    - Discussing important considerations when formulating research, to appreciate the value of a strong hypothesis and study objectives.\n",
        "\n",
        "***Example articles in neuroscience to enhance learning and practice***\n",
        "\n",
        "- **SARS-CoV-2 invasion of the central nervous: a brief review**\n",
        "    - [https://www.ncbi.nlm.nih.gov/pmc/articles/PMC7938650/](https://www.ncbi.nlm.nih.gov/pmc/articles/PMC7938650/)\n",
        "    - The impact of SARS-CoV on the central nervous system, specifically targeting the parietal lobe and cerebellum during infection; the presence of ACE2 may be used by SARS-CoV to enter the brain and indicators of virulence in the CSF.\n",
        "- **Molecular mechanisms of REM sleep**\n",
        "    - [https://pubmed.ncbi.nlm.nih.gov/32009883/](https://pubmed.ncbi.nlm.nih.gov/32009883/)\n",
        "    - The physiological importance of REM sleep and regulation of circadian rhythm; discussing the pathological roles of REM-related sleep disorders in neurodegenerative disorders and depression.\n",
        "- **Brain basis of human social interaction: from concepts to brain imaging**\n",
        "    - [https://pubmed.ncbi.nlm.nih.gov/19342612/](https://pubmed.ncbi.nlm.nih.gov/19342612/)\n",
        "    - Basic foundations of human social interaction through brain imaging, and the physiological manifestations shown in an MRI scan; drawing connections between perception and social interaction.\n",
        "- **Interactions between host genetics and gut microbiota determine susceptibility to CNS autoimmunity**\n",
        "    - [https://www.ncbi.nlm.nih.gov/pmc/articles/PMC7959502/](https://www.ncbi.nlm.nih.gov/pmc/articles/PMC7959502/)\n",
        "    - Exploring the role genetic diversity plays in the relationship between the gut microbiome and autoimmune disorders; identifying emerging risk factors between an imbalance of gut health and heredity.\n",
        "- **Brain ageing, cognition and diet: A review of the emerging roles of food-based nootropics in mitigating age-related memory decline**\n",
        "    - [https://pubmed.ncbi.nlm.nih.gov/30864515/](https://pubmed.ncbi.nlm.nih.gov/30864515/)\n",
        "    - Age-related cognitive decline has been correlated with an increase in brain neuron loss; certain foods rich in nootropic agents may protect the brain from cognitive and age-related memory decline.\n",
        "- **The ketogenic diet as a potential treatment and prevention strategy for Alzheimer's disease**\n",
        "    - [https://www.sciencedirect.com/science/article/pii/S0899900718302764](https://www.sciencedirect.com/science/article/pii/S0899900718302764)\n",
        "    - The ketogenic diet as a potential treatment and prevention method for the progression of Alzheimer’s disease; low carbohydrate and high fat foods could alleviate the effects of impaired glucose metabolism seen in AD patients.\n",
        "- **From disease to health: Physical therapy health promotion practices for secondary prevention in adult and pediatric neurologic populations**\n",
        "    - [https://pubmed.ncbi.nlm.nih.gov/28628596/](https://pubmed.ncbi.nlm.nih.gov/28628596/)\n",
        "    - Contemporary research used to highlight the important role of physical activity and exercise for improving well-being in adults and children with neurological disorders; functional and neuroplastic adaptations are used to measure improvement of health-related activity.\n",
        "- **Race/ethnicity matters: Differences in poststroke inpatient rehabilitation outcomes**\n",
        "    - [https://www.ncbi.nlm.nih.gov/pmc/articles/PMC6802163/](https://www.ncbi.nlm.nih.gov/pmc/articles/PMC6802163/)\n",
        "    - Cross-sectional research study design addressing the health inequality gaps between caregiver knowledge post brain injury and support need by families; incorporating health promotion methods via educational model.\n",
        "- **A novel stress-based intervention reduces cigarette use in non-treatment seeking smokers**\n",
        "    - [https://www.nature.com/articles/s41386-022-01455-6](https://www.nature.com/articles/s41386-022-01455-6)\n",
        "    - Stress based intervention reduced cigarette usage on non-treatment seeking smokers by integrating four conditions that involved smoking cues and non-smoking activities followed by an hour-long extinction protocol.\n",
        "- **Efficacy of intravenous ketamine in adolescent treatment-resistant depression: A randomized midazolam-controlled trial**\n",
        "    - [https://pubmed.ncbi.nlm.nih.gov/33653121/](https://pubmed.ncbi.nlm.nih.gov/33653121/)\n",
        "    - Evaluating the efficiency and safety of intravenous ketamine in adolescent treatment depression; significant dissociative symptoms were accessed.\n",
        "- **Impact of respiratory muscle training on respiratory muscle strength, respiratory function and quality of life in individuals with tetraplegia: a randomized clinical trial**\n",
        "    - [https://pubmed.ncbi.nlm.nih.gov/31937553/](https://pubmed.ncbi.nlm.nih.gov/31937553/)\n",
        "    - Impact of respiratory muscle strength training in individuals with tetraplegia to improve quality of life and the reduction of respiratory complications after tetraplegia.\n",
        "- **Trial of psilocybin versus escitalopram for depression**\n",
        "    - [https://www.nejm.org/doi/full/10.1056/nejmoa2032994](https://www.nejm.org/doi/full/10.1056/nejmoa2032994)\n",
        "    - Exploring the comparison of psilocybin vs escitalopram in the improvement for major depressive disorder.\n",
        "- **Acute psilocybin enhances cognitive flexibility in rats**\n",
        "    - [https://www.nature.com/articles/s41386-023-01545-z](https://www.nature.com/articles/s41386-023-01545-z)\n",
        "    - Studies have indicated that psilocybin is an effective treatment for depression and other psychiatric disorders; cognitive flexibility is being able to switch between mental processes to adapt to the environment, with rats' psilocybin was shown to decrease errors in completing shift-setting tasks as well as enhancing cognitive function.\n",
        "- **Polygenic scores for psychiatric disorders in a diverse postmortem brain tissue cohort**\n",
        "    - [https://www.nature.com/articles/s41386-022-01524-w](https://www.nature.com/articles/s41386-022-01524-w)\n",
        "    - Research studies have shown that postpartum tissues are able to reveal genetic and protein bio banks that are key to discovering risk factors in psychiatric disorders; polygenic cores could be used in the future to understand biological indications of certain disorders.\n",
        "\n"
      ],
      "metadata": {
        "id": "D9vZoBKNkC-A"
      }
    },
    {
      "cell_type": "markdown",
      "source": [
        "### Glossary of terms\n",
        "\n",
        "- Applied science: In the context of this module, it is used to represent a branch of basic science research aimed to convert existing scientific knowledge to practical application\n",
        "- ECHO: Acronym for *Economic, clinical, and humanistic outcomes*; a way to denote the different types of study outcomes in medical research\n",
        "- ECLIPSE: Acronym for *Expectation, Client group, Location, Impact, Professionals, Service*; framework for creating research questions, commonly within policy/service evaluation\n",
        "- Exposure: Any factor that may be associated with an outcome of interest\n",
        "- External validity: How applicable the results of a study are to the real world\n",
        "- FINER: Acronym for *Feasible, Interesting, Novel, Ethical, and Relevant*; criteria for evaluating research questions\n",
        "- How: The specific methodology or scientific strategy within a study\n",
        "- Intervention: Any action which is taken upon a subject to generate an outcome of interest\n",
        "- Internal validity: the degree of confidence that the relationship you are testing is not influenced by other variables\n",
        "- IRB: Acronym for institutional review board; a group formally designated to review and monitor biomedical research involving human subjects\n",
        "- Morbidity: Illness or disease, often expressed as a proportion, rate, or prevalence\n",
        "- PICO/TS: Acronym for *Patient/population/problem, Intervention, Comparison, Outcome, Timing/type of question, Setting/study design*; framework for creating research questions, commonly within quantitative patient-oriented research\n",
        "- Population: The source where groups of subjects are identified\n",
        "- SPICE: Acronym for *Setting, Perspective, Intervention/interest/exposure, Comparison, Evaluation*; framework for creating research questions, commonly within project/service evaluation\n",
        "- SPIDER: Acronym for *Sample, Phenomenon of interest, Design, Evaluation, Research type*; framework for creating research questions, commonly within qualitative and mixed-methods research\n",
        "- Subject: Any entity on which research evaluation is being measured upon\n",
        "- T0 to T4: A classification system for research on the translational science spectrum, including T0 (basic research), T1 (translation to humans), T2 (translation to patients), T3 (translation to practice), and T4 (translation to communities)\n",
        "- Theoretical science: In the context of this module, it is used to represent a branch of basic science research aimed to gather knowledge about a phenomenon\n",
        "- Who: The subject of interest within a study; examples include patients, animals, or cells, a set of compounds, or a dataset or algorithm\n",
        "- What: The action of interest within a study; examples include an intervention, an exposure of interest, or simply a phenomenon or mechanism\n",
        "- Why: The outcome of interest within a study; examples include prevention of stroke or the development of dementia, the accuracy of a diagnostic test, or the identification of a specific genetic mutation"
      ],
      "metadata": {
        "id": "J2P4OGFWtg6p"
      }
    }
  ]
}